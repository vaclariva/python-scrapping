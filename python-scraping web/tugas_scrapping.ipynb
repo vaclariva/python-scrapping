{
 "cells": [
  {
   "cell_type": "code",
   "execution_count": 4,
   "id": "91bc0542",
   "metadata": {},
   "outputs": [
    {
     "name": "stdout",
     "output_type": "stream",
     "text": [
      "Scraping selesai. Data telah disimpan ke dalam file CSV.\n"
     ]
    }
   ],
   "source": [
    "# AMBIL DATA JUDUL DARI https://proxyway.com/reviews\n",
    "\n",
    "# Import digunakan untuk mengimport modul yang dibutuhkan\n",
    "import requests\n",
    "from bs4 import BeautifulSoup as bs\n",
    "import csv\n",
    "\n",
    "# URL yang akan di scrape\n",
    "URL = 'https://proxyway.com/reviews'\n",
    "titles_list = []\n",
    "\n",
    "# Melakukan perulangan untuk mengabil data judul di setiap halaman\n",
    "for page in range(1, 4):\n",
    "    req = requests.get(f\"{URL}/page/{page}\")\n",
    "    soup = bs(req.text, 'html.parser')\n",
    "    titles = soup.find_all('h3')\n",
    "    count = 1\n",
    "    \n",
    "    for title in titles:\n",
    "        d = {}\n",
    "        d['Page Number'] = f'Page {page}'\n",
    "        d['Title Number'] = f'Title {count}'\n",
    "        d['Title Name'] = title.text.strip()\n",
    "        count += 1\n",
    "        titles_list.append(d)\n",
    "\n",
    "# Menyimpan data ke dalam file CSV\n",
    "filename = 'title_review.csv'\n",
    "with open(filename, 'w', newline='') as f:\n",
    "    writer = csv.DictWriter(f, fieldnames=['Page Number', 'Title Number', 'Title Name'])\n",
    "    writer.writeheader()\n",
    "    writer.writerows(titles_list)\n",
    "\n",
    "# Print keterangan jika proses scraping sukses dilakukan \n",
    "print(\"Scraping selesai. Data telah disimpan ke dalam file CSV.\")\n"
   ]
  },
  {
   "cell_type": "code",
   "execution_count": 12,
   "id": "e0271ae2",
   "metadata": {},
   "outputs": [
    {
     "name": "stdout",
     "output_type": "stream",
     "text": [
      "\n",
      "\n",
      "Scraping images from: https://proxyway.com/reviews \n",
      "\n",
      "Data telah disimpan ke dalam file image_urls.csv\n"
     ]
    }
   ],
   "source": [
    "# AMBIL DATA GAMBAR DARI https://proxyway.com/reviews\n",
    "\n",
    "# Import digunakan untuk mengimport modul yang dibutuhkan\n",
    "import requests\n",
    "from bs4 import BeautifulSoup as bs\n",
    "import csv\n",
    "from requests.exceptions import Timeout, RequestException\n",
    "\n",
    "# URL yang akan di scrape\n",
    "URL = \"https://proxyway.com/reviews\"\n",
    "\n",
    "print(\"\\n\")\n",
    "print(\"Scraping images from:\", URL, \"\\n\")\n",
    "\n",
    "# Menyiapkan file CSV\n",
    "csv_file = open('image_urls.csv', 'w', newline='')\n",
    "csv_writer = csv.writer(csv_file)\n",
    "csv_writer.writerow(['Image', 'URL'])\n",
    "\n",
    "# Menentukan nomor halaman yang akan di scrape\n",
    "page = 1\n",
    "max_page = 3 \n",
    "\n",
    "# Melakukan perulangan untuk mengambil data gambar di setiap halaman\n",
    "while page <= max_page:\n",
    "    try:\n",
    "        req = requests.get(f\"{URL}/page/{page}\", timeout=timeout)\n",
    "        req.raise_for_status()  # Raise an exception if the request was unsuccessful\n",
    "        soup = bs(req.text, 'html.parser')\n",
    "        images = soup.find_all('img')\n",
    "\n",
    "        if not images:\n",
    "            break\n",
    "\n",
    "        for i, image in enumerate(images):\n",
    "            if 'src' in image.attrs:\n",
    "                image_url = image['src']\n",
    "                csv_writer.writerow([f\"Image {i+1}\", image_url])\n",
    "\n",
    "        page += 1\n",
    "\n",
    "    except (Timeout, RequestException) as e:\n",
    "        print(\"An error occurred:\", str(e))\n",
    "        break\n",
    "\n",
    "# Menutup file CSV\n",
    "csv_file.close()\n",
    "\n",
    "# Print keterangan jika proses scraping sukses dilakukan \n",
    "print(\"Data telah disimpan ke dalam file image_urls.csv\")\n"
   ]
  },
  {
   "cell_type": "code",
   "execution_count": 10,
   "id": "f8d25b68",
   "metadata": {},
   "outputs": [
    {
     "name": "stdout",
     "output_type": "stream",
     "text": [
      "Scraping selesai. Data telah disimpan ke dalam file CSV.\n"
     ]
    }
   ],
   "source": [
    "# AMBIL DATA JUDUL DARI https://proxyway.com/news\n",
    "\n",
    "# Import digunakan untuk mengimport modul yang dibutuhkan\n",
    "import requests\n",
    "from bs4 import BeautifulSoup as bs\n",
    "import csv\n",
    "\n",
    "# URL yang akan di scrape\n",
    "URL = 'https://proxyway.com/news'\n",
    "titles_list = []\n",
    "\n",
    "# Melakukan perulangan untuk mengabil data judul di setiap halaman\n",
    "for page in range(1, 4):\n",
    "    req = requests.get(f\"{URL}/page/{page}\")\n",
    "    soup = bs(req.text, 'html.parser')\n",
    "    titles = soup.find_all('h3')\n",
    "    count = 1\n",
    "    \n",
    "    for title in titles:\n",
    "        d = {}\n",
    "        d['Page Number'] = f'Page {page}'\n",
    "        d['Title Number'] = f'Title {count}'\n",
    "        d['Title Name'] = title.text.strip()\n",
    "        count += 1\n",
    "        titles_list.append(d)\n",
    "\n",
    "# Menyimpan data ke dalam file CSV\n",
    "filename = 'title_news.csv'\n",
    "with open(filename, 'w', newline='') as f:\n",
    "    writer = csv.DictWriter(f, fieldnames=['Page Number', 'Title Number', 'Title Name'])\n",
    "    writer.writeheader()\n",
    "    writer.writerows(titles_list)\n",
    "    \n",
    "# Print keterangan jika proses scraping sukses dilakukan \n",
    "print(\"Scraping selesai. Data telah disimpan ke dalam file CSV.\")\n"
   ]
  },
  {
   "cell_type": "code",
   "execution_count": 13,
   "id": "048eeb32",
   "metadata": {},
   "outputs": [
    {
     "name": "stdout",
     "output_type": "stream",
     "text": [
      "\n",
      "\n",
      "Scraping images from: https://proxyway.com/news \n",
      "\n",
      "Data telah disimpan ke dalam file image_news.csv\n"
     ]
    }
   ],
   "source": [
    "# AMBIL DATA GAMBAR DARI https://proxyway.com/news\n",
    "\n",
    "# Import digunakan untuk mengimport modul yang dibutuhkan\n",
    "import requests\n",
    "from bs4 import BeautifulSoup as bs\n",
    "import csv\n",
    "from requests.exceptions import Timeout, RequestException\n",
    "\n",
    "# URL yang akan di scrape\n",
    "URL = \"https://proxyway.com/news\"\n",
    "\n",
    "print(\"\\n\")\n",
    "print(\"Scraping images from:\", URL, \"\\n\")\n",
    "\n",
    "# Menyiapkan file CSV\n",
    "csv_file = open('image_news.csv', 'w', newline='')\n",
    "csv_writer = csv.writer(csv_file)\n",
    "csv_writer.writerow(['Image', 'URL'])\n",
    "\n",
    "# Menentukan nomor halaman yang akan di scrape\n",
    "page = 1\n",
    "max_page = 6 \n",
    "\n",
    "# Melakukan perulangan untuk mengambil data gambar di setiap halaman\n",
    "while page <= max_page:\n",
    "    try:\n",
    "        req = requests.get(f\"{URL}/page/{page}\", timeout=timeout)\n",
    "        req.raise_for_status()  # Raise an exception if the request was unsuccessful\n",
    "        soup = bs(req.text, 'html.parser')\n",
    "        images = soup.find_all('img')\n",
    "\n",
    "        if not images:\n",
    "            break\n",
    "\n",
    "        for i, image in enumerate(images):\n",
    "            if 'src' in image.attrs:\n",
    "                image_url = image['src']\n",
    "                csv_writer.writerow([f\"Image {i+1}\", image_url])\n",
    "\n",
    "        page += 1\n",
    "\n",
    "    except (Timeout, RequestException) as e:\n",
    "        print(\"An error occurred:\", str(e))\n",
    "        break\n",
    "\n",
    "# Menutup file CSV\n",
    "csv_file.close()\n",
    "\n",
    "# Print keterangan jika proses scraping sukses dilakukan \n",
    "print(\"Data telah disimpan ke dalam file image_news.csv\")\n"
   ]
  },
  {
   "cell_type": "code",
   "execution_count": null,
   "id": "096ec431",
   "metadata": {},
   "outputs": [],
   "source": []
  }
 ],
 "metadata": {
  "kernelspec": {
   "display_name": "Python 3 (ipykernel)",
   "language": "python",
   "name": "python3"
  },
  "language_info": {
   "codemirror_mode": {
    "name": "ipython",
    "version": 3
   },
   "file_extension": ".py",
   "mimetype": "text/x-python",
   "name": "python",
   "nbconvert_exporter": "python",
   "pygments_lexer": "ipython3",
   "version": "3.10.9"
  }
 },
 "nbformat": 4,
 "nbformat_minor": 5
}
